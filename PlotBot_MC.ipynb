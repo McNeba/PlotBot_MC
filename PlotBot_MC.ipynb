{
 "cells": [
  {
   "cell_type": "code",
   "execution_count": 37,
   "metadata": {},
   "outputs": [],
   "source": [
    "# Dependencies\n",
    "import pandas as pd\n",
    "import numpy as np\n",
    "import matplotlib.pyplot as plt\n",
    "import seaborn as sns\n",
    "import tweepy\n",
    "import time\n",
    "import json\n",
    "from datetime import datetime\n",
    "from vaderSentiment.vaderSentiment import SentimentIntensityAnalyzer\n",
    "\n",
    "analyzer = SentimentIntensityAnalyzer()# Dependencies\n",
    "import pandas as pd\n",
    "import numpy as np\n",
    "import matplotlib.pyplot as plt\n",
    "import seaborn as sns\n",
    "import tweepy\n",
    "import time\n",
    "import json\n",
    "from datetime import datetime\n",
    "from vaderSentiment.vaderSentiment import SentimentIntensityAnalyzer\n",
    "\n",
    "analyzer = SentimentIntensityAnalyzer()"
   ]
  },
  {
   "cell_type": "code",
   "execution_count": 38,
   "metadata": {},
   "outputs": [],
   "source": [
    "from config import (consumer_key, \n",
    "                    consumer_secret, \n",
    "                    access_token, \n",
    "                    access_token_secret)"
   ]
  },
  {
   "cell_type": "code",
   "execution_count": 39,
   "metadata": {},
   "outputs": [],
   "source": [
    "# PlotBot user name (testing with PlotBlot5)\n",
    "plot_bot = \"@CNN\""
   ]
  },
  {
   "cell_type": "code",
   "execution_count": 40,
   "metadata": {},
   "outputs": [],
   "source": [
    "# Create a function to find the user to analyze\n",
    "def FindUser():\n",
    "    \n",
    "    # Use Tweepy to Authenticate our access\n",
    "    auth = tweepy.OAuthHandler(consumer_key, consumer_secret)\n",
    "    auth.set_access_token(access_token, access_token_secret)\n",
    "    api = tweepy.API(auth, parser=tweepy.parsers.JSONParser())\n",
    "\n",
    "    # Get tweets\n",
    "    public_tweets = api.search(plot_bot, count = 1)['statuses'][0]\n",
    "    user = \"@\" + public_tweets['entities']['user_mentions'][1]['screen_name']\n",
    "    \n",
    "    if \"Analyze\" in public_tweets['text']:\n",
    "        user = \"@\" + public_tweets['entities']['user_mentions'][1]['screen_name']\n",
    "\n",
    "    # Get screen name of person who requested analysis\n",
    "    requesting_user = \"@\" + public_tweets['user']['screen_name']\n",
    "\n",
    "    # Return value\n",
    "    return user, requesting_user"
   ]
  },
  {
   "cell_type": "code",
   "execution_count": 41,
   "metadata": {},
   "outputs": [],
   "source": [
    "# Create a function to get the tweets of the target user\n",
    "def GetTweets(target_user):\n",
    "\n",
    "    # Use Tweepy to Authenticate our access\n",
    "    auth = tweepy.OAuthHandler(consumer_key, consumer_secret)\n",
    "    auth.set_access_token(access_token, access_token_secret)\n",
    "    api = tweepy.API(auth, parser=tweepy.parsers.JSONParser())\n",
    "\n",
    "    # Create an empty list for tweets\n",
    "    user_tweets = []\n",
    "\n",
    "    # Loop through 25 pages\n",
    "    for x in range(25):\n",
    "\n",
    "        # Get tweets\n",
    "        public_tweets = api.user_timeline(target_user, page = x)\n",
    "\n",
    "        # Append text of each tweet\n",
    "        for tweet in public_tweets:\n",
    "            user_tweets.append(tweet['text'])\n",
    "\n",
    "    # Return list of tweets\n",
    "    return user_tweets"
   ]
  },
  {
   "cell_type": "code",
   "execution_count": 42,
   "metadata": {},
   "outputs": [],
   "source": [
    "# Create a function to analyze list of tweets\n",
    "def AnalyzeTweets(user_tweets = []):\n",
    "\n",
    "    # Create a list of compound scores and for tweets ago\n",
    "    compound_list = []\n",
    "    tweets_ago = []\n",
    "    tweet_count = 0\n",
    "\n",
    "    # Analyze tweets\n",
    "    for tweet in user_tweets:\n",
    "        compound = analyzer.polarity_scores(tweet)[\"compound\"]\n",
    "        compound_list.append(compound)\n",
    "        tweet_count -= 1\n",
    "        tweets_ago.append(tweet_count)\n",
    "\n",
    "    # Return compound scores\n",
    "    return compound_list, tweets_ago"
   ]
  },
  {
   "cell_type": "code",
   "execution_count": 43,
   "metadata": {},
   "outputs": [],
   "source": [
    "# Create a function to plot tweet sentiments\n",
    "def plotting(target_user, tweets_ago = [], compound_senti = []):\n",
    "    \n",
    "    # Scatter Plot for sentiment\n",
    "    plt.plot(tweets_ago, compound_senti, '-o', linewidth=0.5, label=target_user)\n",
    "    plt.title(\"Sentiment Analysis of Tweets (%s)\" % (time.strftime(\"%m/%d/%Y\")))\n",
    "    plt.xlabel(\"Tweets Ago\")\n",
    "    plt.ylabel(\"Tweet Polarity\")\n",
    "    plt.legend(bbox_to_anchor=(1,0.95), title='Tweets', fontsize='medium')\n",
    "\n",
    "    plt.savefig(\"Sentiment_Analysis.png\", bbox_inches='tight')"
   ]
  },
  {
   "cell_type": "code",
   "execution_count": 44,
   "metadata": {},
   "outputs": [],
   "source": [
    "# Create a function to tweet out graph\n",
    "def TweetOut(target_user, req_user):\n",
    "\n",
    "    # Use Tweepy to Authenticate our access\n",
    "    auth = tweepy.OAuthHandler(consumer_key, consumer_secret)\n",
    "    auth.set_access_token(access_token, access_token_secret)\n",
    "    api = tweepy.API(auth, parser=tweepy.parsers.JSONParser())\n",
    "\n",
    "    # Update status\n",
    "    api.update_with_media(\"Sentiment_Analysis.png\", \"New Tweet Analysis: %s (Thx %s!!)\" % (target_user, req_user))"
   ]
  },
  {
   "cell_type": "code",
   "execution_count": 45,
   "metadata": {},
   "outputs": [
    {
     "ename": "IndexError",
     "evalue": "list index out of range",
     "output_type": "error",
     "traceback": [
      "\u001b[0;31m---------------------------------------------------------------------------\u001b[0m",
      "\u001b[0;31mIndexError\u001b[0m                                Traceback (most recent call last)",
      "\u001b[0;32m<ipython-input-45-856fa5e4c5fe>\u001b[0m in \u001b[0;36m<module>\u001b[0;34m()\u001b[0m\n\u001b[1;32m     10\u001b[0m \u001b[0;34m\u001b[0m\u001b[0m\n\u001b[1;32m     11\u001b[0m     \u001b[0;31m# Get target user\u001b[0m\u001b[0;34m\u001b[0m\u001b[0;34m\u001b[0m\u001b[0m\n\u001b[0;32m---> 12\u001b[0;31m     \u001b[0mtarget_user\u001b[0m \u001b[0;34m=\u001b[0m \u001b[0mFindUser\u001b[0m\u001b[0;34m(\u001b[0m\u001b[0;34m)\u001b[0m\u001b[0;34m[\u001b[0m\u001b[0;36m0\u001b[0m\u001b[0;34m]\u001b[0m\u001b[0;34m\u001b[0m\u001b[0m\n\u001b[0m\u001b[1;32m     13\u001b[0m     \u001b[0mreq_user\u001b[0m \u001b[0;34m=\u001b[0m \u001b[0mFindUser\u001b[0m\u001b[0;34m(\u001b[0m\u001b[0;34m)\u001b[0m\u001b[0;34m[\u001b[0m\u001b[0;36m1\u001b[0m\u001b[0;34m]\u001b[0m\u001b[0;34m\u001b[0m\u001b[0m\n\u001b[1;32m     14\u001b[0m \u001b[0;34m\u001b[0m\u001b[0m\n",
      "\u001b[0;32m<ipython-input-40-01eca1218ce1>\u001b[0m in \u001b[0;36mFindUser\u001b[0;34m()\u001b[0m\n\u001b[1;32m      9\u001b[0m     \u001b[0;31m# Get tweets\u001b[0m\u001b[0;34m\u001b[0m\u001b[0;34m\u001b[0m\u001b[0m\n\u001b[1;32m     10\u001b[0m     \u001b[0mpublic_tweets\u001b[0m \u001b[0;34m=\u001b[0m \u001b[0mapi\u001b[0m\u001b[0;34m.\u001b[0m\u001b[0msearch\u001b[0m\u001b[0;34m(\u001b[0m\u001b[0mplot_bot\u001b[0m\u001b[0;34m,\u001b[0m \u001b[0mcount\u001b[0m \u001b[0;34m=\u001b[0m \u001b[0;36m1\u001b[0m\u001b[0;34m)\u001b[0m\u001b[0;34m[\u001b[0m\u001b[0;34m'statuses'\u001b[0m\u001b[0;34m]\u001b[0m\u001b[0;34m[\u001b[0m\u001b[0;36m0\u001b[0m\u001b[0;34m]\u001b[0m\u001b[0;34m\u001b[0m\u001b[0m\n\u001b[0;32m---> 11\u001b[0;31m     \u001b[0muser\u001b[0m \u001b[0;34m=\u001b[0m \u001b[0;34m\"@\"\u001b[0m \u001b[0;34m+\u001b[0m \u001b[0mpublic_tweets\u001b[0m\u001b[0;34m[\u001b[0m\u001b[0;34m'entities'\u001b[0m\u001b[0;34m]\u001b[0m\u001b[0;34m[\u001b[0m\u001b[0;34m'user_mentions'\u001b[0m\u001b[0;34m]\u001b[0m\u001b[0;34m[\u001b[0m\u001b[0;36m1\u001b[0m\u001b[0;34m]\u001b[0m\u001b[0;34m[\u001b[0m\u001b[0;34m'screen_name'\u001b[0m\u001b[0;34m]\u001b[0m\u001b[0;34m\u001b[0m\u001b[0m\n\u001b[0m\u001b[1;32m     12\u001b[0m \u001b[0;34m\u001b[0m\u001b[0m\n\u001b[1;32m     13\u001b[0m     \u001b[0;32mif\u001b[0m \u001b[0;34m\"Analyze\"\u001b[0m \u001b[0;32min\u001b[0m \u001b[0mpublic_tweets\u001b[0m\u001b[0;34m[\u001b[0m\u001b[0;34m'text'\u001b[0m\u001b[0;34m]\u001b[0m\u001b[0;34m:\u001b[0m\u001b[0;34m\u001b[0m\u001b[0m\n",
      "\u001b[0;31mIndexError\u001b[0m: list index out of range"
     ]
    }
   ],
   "source": [
    "# A list to make sure I don't analyze the same user again\n",
    "my_mentions = []\n",
    "\n",
    "while(True):\n",
    "\n",
    "    # Use Tweepy to Authenticate our access\n",
    "    auth = tweepy.OAuthHandler(consumer_key, consumer_secret)\n",
    "    auth.set_access_token(access_token, access_token_secret)\n",
    "    api = tweepy.API(auth, parser=tweepy.parsers.JSONParser())\n",
    "    \n",
    "    # Get target user\n",
    "    target_user = FindUser()[0]\n",
    "    req_user = FindUser()[1]\n",
    "    \n",
    "    # Testing whether user has already been analyzed\n",
    "    if target_user in my_mentions:\n",
    "        print(\"%s has already been analyzed!\" % target_user)\n",
    "    else:\n",
    "        print(\"Starting analysis of %s\" % target_user)\n",
    "\n",
    "        # Adding user to by analyzed to my_mentions\n",
    "        my_mentions.append(target_user)\n",
    "\n",
    "        # Get and analyze tweets\n",
    "        tweets_analyze = GetTweets(target_user)\n",
    "        analysis = AnalyzeTweets(tweets_analyze)\n",
    "        print(\"Tweets analyzed\")\n",
    "\n",
    "        #Plot the tweets\n",
    "        plotting(target_user, analysis[1], analysis[0])\n",
    "        print(\"Graph plotted\")\n",
    "\n",
    "        # Tweet the image\n",
    "        TweetOut(target_user, req_user)\n",
    "        print(\"Image tweeted\")\n",
    "\n",
    "        print(\"Analysis Completed!\")\n",
    "\n",
    "    # Checking for new tweets every 5 minutes\n",
    "    time.sleep(300)"
   ]
  },
  {
   "cell_type": "code",
   "execution_count": null,
   "metadata": {},
   "outputs": [],
   "source": []
  },
  {
   "cell_type": "code",
   "execution_count": null,
   "metadata": {},
   "outputs": [],
   "source": []
  }
 ],
 "metadata": {
  "kernelspec": {
   "display_name": "Python 3",
   "language": "python",
   "name": "python3"
  },
  "language_info": {
   "codemirror_mode": {
    "name": "ipython",
    "version": 3
   },
   "file_extension": ".py",
   "mimetype": "text/x-python",
   "name": "python",
   "nbconvert_exporter": "python",
   "pygments_lexer": "ipython3",
   "version": "3.6.5"
  }
 },
 "nbformat": 4,
 "nbformat_minor": 2
}
